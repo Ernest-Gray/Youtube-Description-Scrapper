{
 "cells": [
  {
   "cell_type": "code",
   "execution_count": 24,
   "metadata": {},
   "outputs": [],
   "source": [
    "from bs4 import BeautifulSoup as bs\n",
    "from requests_html import HTMLSession\n",
    "from datetime import datetime as dt"
   ]
  },
  {
   "cell_type": "code",
   "execution_count": 25,
   "metadata": {},
   "outputs": [],
   "source": [
    "URLS = [\"https://www.youtube.com/watch?v=F_CHgwCQgQ4\", \"https://www.youtube.com/watch?v=tO6FtUzHEME\", \"https://www.youtube.com/watch?v=isn2EtF5jY0\"]\n",
    "\n",
    "# session = HTMLSession() \n",
    "results = [str]"
   ]
  },
  {
   "cell_type": "code",
   "execution_count": 51,
   "metadata": {},
   "outputs": [
    {
     "ename": "AttributeError",
     "evalue": "'coroutine' object has no attribute 'html'",
     "output_type": "error",
     "traceback": [
      "\u001b[1;31m---------------------------------------------------------------------------\u001b[0m",
      "\u001b[1;31mAttributeError\u001b[0m                            Traceback (most recent call last)",
      "\u001b[1;32mc:\\Users\\eggte\\Documents\\Python Projects 2022\\Youtube Description Scrapper\\notebook.ipynb Cell 3\u001b[0m in \u001b[0;36m<cell line: 22>\u001b[1;34m()\u001b[0m\n\u001b[0;32m     <a href='vscode-notebook-cell:/c%3A/Users/eggte/Documents/Python%20Projects%202022/Youtube%20Description%20Scrapper/notebook.ipynb#ch0000002?line=19'>20</a>\u001b[0m         result \u001b[39m=\u001b[39m result[\u001b[39m\"\u001b[39m\u001b[39mhref\u001b[39m\u001b[39m\"\u001b[39m]\n\u001b[0;32m     <a href='vscode-notebook-cell:/c%3A/Users/eggte/Documents/Python%20Projects%202022/Youtube%20Description%20Scrapper/notebook.ipynb#ch0000002?line=20'>21</a>\u001b[0m         \u001b[39mprint\u001b[39m(result)\n\u001b[1;32m---> <a href='vscode-notebook-cell:/c%3A/Users/eggte/Documents/Python%20Projects%202022/Youtube%20Description%20Scrapper/notebook.ipynb#ch0000002?line=21'>22</a>\u001b[0m GetTrendingVideos()\n",
      "\u001b[1;32mc:\\Users\\eggte\\Documents\\Python Projects 2022\\Youtube Description Scrapper\\notebook.ipynb Cell 3\u001b[0m in \u001b[0;36mGetTrendingVideos\u001b[1;34m()\u001b[0m\n\u001b[0;32m     <a href='vscode-notebook-cell:/c%3A/Users/eggte/Documents/Python%20Projects%202022/Youtube%20Description%20Scrapper/notebook.ipynb#ch0000002?line=9'>10</a>\u001b[0m \u001b[39mdef\u001b[39;00m \u001b[39mGetTrendingVideos\u001b[39m():\n\u001b[0;32m     <a href='vscode-notebook-cell:/c%3A/Users/eggte/Documents/Python%20Projects%202022/Youtube%20Description%20Scrapper/notebook.ipynb#ch0000002?line=11'>12</a>\u001b[0m     response \u001b[39m=\u001b[39m temp()\n\u001b[1;32m---> <a href='vscode-notebook-cell:/c%3A/Users/eggte/Documents/Python%20Projects%202022/Youtube%20Description%20Scrapper/notebook.ipynb#ch0000002?line=13'>14</a>\u001b[0m     soup \u001b[39m=\u001b[39m bs(response\u001b[39m.\u001b[39;49mhtml\u001b[39m.\u001b[39mhtml, \u001b[39m\"\u001b[39m\u001b[39mhtml.parser\u001b[39m\u001b[39m\"\u001b[39m)\n\u001b[0;32m     <a href='vscode-notebook-cell:/c%3A/Users/eggte/Documents/Python%20Projects%202022/Youtube%20Description%20Scrapper/notebook.ipynb#ch0000002?line=14'>15</a>\u001b[0m     soup\u001b[39m.\u001b[39mprettify()\n\u001b[0;32m     <a href='vscode-notebook-cell:/c%3A/Users/eggte/Documents/Python%20Projects%202022/Youtube%20Description%20Scrapper/notebook.ipynb#ch0000002?line=16'>17</a>\u001b[0m     results \u001b[39m=\u001b[39m soup\u001b[39m.\u001b[39mfindAll(\u001b[39m\"\u001b[39m\u001b[39ma\u001b[39m\u001b[39m\"\u001b[39m, href\u001b[39m=\u001b[39m\u001b[39mTrue\u001b[39;00m)\n",
      "\u001b[1;31mAttributeError\u001b[0m: 'coroutine' object has no attribute 'html'"
     ]
    }
   ],
   "source": [
    "# session = HTMLSession() \n",
    "async def temp():\n",
    "    url = \"https://www.youtube.com/feed/trending\"\n",
    "    response = session.get(url)\n",
    "    # response.html.render(sleep=1)\n",
    "    await response.html.arender(sleep=1)\n",
    "    print(\"test\")\n",
    "    return response\n",
    "    \n",
    "def GetTrendingVideos():\n",
    "    \n",
    "    response = temp()\n",
    "    \n",
    "    soup = bs(response.html.html, \"html.parser\")\n",
    "    soup.prettify()\n",
    "    \n",
    "    results = soup.findAll(\"a\", href=True)\n",
    "    print(len(results))\n",
    "    for result in results:\n",
    "        result = result[\"href\"]\n",
    "        print(result)\n",
    "GetTrendingVideos()"
   ]
  },
  {
   "cell_type": "code",
   "execution_count": null,
   "metadata": {},
   "outputs": [],
   "source": [
    "session = HTMLSession() \n",
    "def GetTrendingVideos():\n",
    "    url = \"https://www.youtube.com/feed/trending\"\n",
    "    \n",
    "    response = session.get(url)\n",
    "    response.html.render(sleep=1)\n",
    "    \n",
    "    soup = bs(response.html.html, \"html.parser\")\n",
    "    \n",
    "    result = soup.findAll(\"ytd-video-renderer\")\n",
    "    print(type(result))\n",
    "    print(\"Hello world\")\n",
    "GetTrendingVideos()"
   ]
  }
 ],
 "metadata": {
  "kernelspec": {
   "display_name": "Python 3.10.5 ('env': venv)",
   "language": "python",
   "name": "python3"
  },
  "language_info": {
   "codemirror_mode": {
    "name": "ipython",
    "version": 3
   },
   "file_extension": ".py",
   "mimetype": "text/x-python",
   "name": "python",
   "nbconvert_exporter": "python",
   "pygments_lexer": "ipython3",
   "version": "3.10.5"
  },
  "orig_nbformat": 4,
  "vscode": {
   "interpreter": {
    "hash": "7a24032b72cbeb34812c73f31c4130e445255a2c61452013ae43d31f23768477"
   }
  }
 },
 "nbformat": 4,
 "nbformat_minor": 2
}
